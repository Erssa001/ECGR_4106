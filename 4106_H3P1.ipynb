{
 "cells": [
  {
   "cell_type": "code",
   "execution_count": 113,
   "metadata": {},
   "outputs": [],
   "source": [
    "import torch\n",
    "import torch.nn as nn\n",
    "import torch.optim as optim\n",
    "import numpy as np\n",
    "from sklearn.model_selection import train_test_split\n",
    "\n",
    "# Check for CUDA support and set the device accordingly\n",
    "device = torch.device(\"cuda\" if torch.cuda.is_available() else \"cpu\")"
   ]
  },
  {
   "cell_type": "code",
   "execution_count": 114,
   "metadata": {},
   "outputs": [],
   "source": [
    "# Input text\n",
    "text = \"Next character prediction is a fundamental task in the field of natural language processing (NLP) that involves predicting the next character in a sequence of text based on the characters that precede it. This task is essential for various applications, including text auto-completion, spell checking, and even in the development of sophisticated AI models capable of generating human-like text. At its core, next character prediction relies on statistical models or deep learning algorithms to analyze a given sequence of text and predict which character is most likely to follow. These predictions are based on patterns and relationships learned from large datasets of text during the training phase of the model. One of the most popular approaches to next character prediction involves the use of Recurrent Neural Networks (RNNs), and more specifically, a variant called Long Short-Term Memory (LSTM) networks. RNNs are particularly well-suited for sequential data like text, as they can maintain information in 'memory' about previous characters to inform the prediction of the next character. LSTM networks enhance this capability by being able to remember long-term dependencies, making them even more effective for next character prediction tasks. Training a model for next character prediction involves feeding it large amounts of text data, allowing it to learn the probability of each character's appearance following a sequence of characters. During this training process, the model adjusts its parameters to minimize the difference between its predictions and the actual outcomes, thus improving its predictive accuracy over time. Once trained, the model can be used to predict the next character in a given piece of text by considering the sequence of characters that precede it. This can enhance user experience in text editing software, improve efficiency in coding environments with auto-completion features, and enable more natural interactions with AI-based chatbots and virtual assistants. In summary, next character prediction plays a crucial role in enhancing the capabilities of various NLP applications, making text-based interactions more efficient, accurate, and human-like. Through the use of advanced machine learning models like RNNs and LSTMs, next character prediction continues to evolve, opening new possibilities for the future of text-based technology.\"\n",
    "\n",
    "# set(text): Creates a set of unique characters found in the text. The set function removes any duplicate characters.\n",
    "# list(set(text)): Converts the set back into a list so that it can be sorted. \n",
    "# sorted(list(set(text))): Sorts the list of unique characters. \n",
    "chars = sorted(list(set(text)))\n",
    "#This line creates a dictionary that maps each character to a unique index (integer).\"\n",
    "ix_to_char = {i: ch for i, ch in enumerate(chars)}\n",
    "#Similar to the previous line, but in reverse. This line creates a dictionary that maps each unique index (integer) back to its corresponding character.\n",
    "char_to_ix = {ch: i for i, ch in enumerate(chars)} \n",
    "chars = sorted(list(set(text)))\n",
    "\n",
    "prediction_range = 30  # length of input sequence in tokens\n",
    "X = []\n",
    "y = []\n",
    "for i in range(len(text) - prediction_range):\n",
    "    sequence = text[i:i + prediction_range]\n",
    "    label = text[i + prediction_range]\n",
    "    X.append([char_to_ix[char] for char in sequence])\n",
    "    y.append(char_to_ix[label])\n",
    "\n",
    "X = np.array(X)\n",
    "y = np.array(y)"
   ]
  },
  {
   "cell_type": "code",
   "execution_count": 115,
   "metadata": {},
   "outputs": [],
   "source": [
    "# Splitting the dataset into training and validation sets\n",
    "X_train, X_val, y_train, y_val = train_test_split(X, y, test_size=0.2, random_state=42)\n",
    "\n",
    "# Converting data to PyTorch tensors\n",
    "X_train = torch.tensor(X_train, dtype=torch.long)\n",
    "y_train = torch.tensor(y_train, dtype=torch.long)\n",
    "X_val = torch.tensor(X_val, dtype=torch.long)\n",
    "y_val = torch.tensor(y_val, dtype=torch.long)\n"
   ]
  },
  {
   "cell_type": "code",
   "execution_count": 116,
   "metadata": {},
   "outputs": [],
   "source": [
    "# Defining the RNN model\n",
    "class CharRNN(nn.Module):\n",
    "    def __init__(self, input_size, hidden_size, output_size):\n",
    "        super(CharRNN, self).__init__()\n",
    "        self.hidden_size = hidden_size\n",
    "        #This line takes the input tensor x, which contains indices of characters, and passes it through an embedding layer (self.embedding). \n",
    "        #The embedding layer converts these indices into dense vectors of fixed size. \n",
    "        #These vectors are learned during training and can capture semantic similarities between characters. \n",
    "        #The result is a higher-dimensional representation of the input sequence, where each character index is replaced by its corresponding embedding vector. \n",
    "        self.embedding = nn.Embedding(input_size, hidden_size)\n",
    "        # self.rnn = nn.RNN(hidden_size, hidden_size, batch_first=True)\n",
    "        # self.rnn = nn.LSTM(hidden_size, hidden_size, batch_first=True)\n",
    "        self.rnn = nn.GRU(hidden_size, hidden_size, batch_first=True)\n",
    "        self.fc = nn.Linear(hidden_size, output_size)\n",
    "\n",
    "    def forward(self, x):\n",
    "        embedded = self.embedding(x)\n",
    "        #The RNN layer returns two outputs: \n",
    "        #1- the output tensor containing the output of the RNN at each time step for each sequence in the batch, \n",
    "        #2-the hidden state (_) of the last time step (which is not used in this line, hence the underscore).\n",
    "        output, _ = self.rnn(embedded)\n",
    "        #The RNN's output contains the outputs for every time step, \n",
    "        #but for this task, we're only interested in the output of the last time step because we're predicting the next character after the sequence. \n",
    "        #output[:, -1, :] selects the last time step's output for every sequence in the batch (-1 indexes the last item in Python).\n",
    "        output = self.fc(output[:, -1, :])  # Get the output of the last RNN cell\n",
    "        return output"
   ]
  },
  {
   "cell_type": "code",
   "execution_count": 117,
   "metadata": {},
   "outputs": [
    {
     "name": "stdout",
     "output_type": "stream",
     "text": [
      "Total number of parameters: 417324\n",
      "Epoch 5, Loss: 3.086158037185669, Training Accuracy: 0.20912951231002808, Validation Loss: 2.9854259490966797, Validation Accuracy: 0.18644067645072937\n",
      "Epoch 10, Loss: 2.671365737915039, Training Accuracy: 0.2876857817173004, Validation Loss: 2.6774179935455322, Validation Accuracy: 0.29661017656326294\n",
      "Epoch 15, Loss: 2.4388833045959473, Training Accuracy: 0.35350319743156433, Validation Loss: 2.5009653568267822, Validation Accuracy: 0.3262711763381958\n",
      "Epoch 20, Loss: 2.259737014770508, Training Accuracy: 0.3789809048175812, Validation Loss: 2.3724212646484375, Validation Accuracy: 0.36228814721107483\n",
      "Epoch 25, Loss: 2.1143617630004883, Training Accuracy: 0.4166666567325592, Validation Loss: 2.290241003036499, Validation Accuracy: 0.37711864709854126\n",
      "Epoch 30, Loss: 1.9807814359664917, Training Accuracy: 0.4394904375076294, Validation Loss: 2.215980291366577, Validation Accuracy: 0.37711864709854126\n",
      "Epoch 35, Loss: 1.850935697555542, Training Accuracy: 0.4665605127811432, Validation Loss: 2.1390130519866943, Validation Accuracy: 0.40466102957725525\n",
      "Epoch 40, Loss: 1.727117657661438, Training Accuracy: 0.5090233683586121, Validation Loss: 2.076223611831665, Validation Accuracy: 0.4237288236618042\n",
      "Epoch 45, Loss: 1.6093204021453857, Training Accuracy: 0.549893856048584, Validation Loss: 2.0268402099609375, Validation Accuracy: 0.4576271176338196\n",
      "Epoch 50, Loss: 1.495978593826294, Training Accuracy: 0.5780254602432251, Validation Loss: 1.9839171171188354, Validation Accuracy: 0.4661017060279846\n",
      "Epoch 55, Loss: 1.3866385221481323, Training Accuracy: 0.6093418002128601, Validation Loss: 1.9458967447280884, Validation Accuracy: 0.48516950011253357\n",
      "Epoch 60, Loss: 1.2800778150558472, Training Accuracy: 0.6380042433738708, Validation Loss: 1.9120303392410278, Validation Accuracy: 0.5\n",
      "Epoch 65, Loss: 1.1758815050125122, Training Accuracy: 0.6698513627052307, Validation Loss: 1.8860074281692505, Validation Accuracy: 0.5063559412956238\n",
      "Epoch 70, Loss: 1.0747379064559937, Training Accuracy: 0.7032908797264099, Validation Loss: 1.868804693222046, Validation Accuracy: 0.5105932354927063\n",
      "Epoch 75, Loss: 0.9773279428482056, Training Accuracy: 0.7351379990577698, Validation Loss: 1.8602720499038696, Validation Accuracy: 0.5063559412956238\n",
      "Epoch 80, Loss: 0.8835754990577698, Training Accuracy: 0.7653927803039551, Validation Loss: 1.8581455945968628, Validation Accuracy: 0.5211864113807678\n",
      "Epoch 85, Loss: 0.7937490940093994, Training Accuracy: 0.7914012670516968, Validation Loss: 1.86348295211792, Validation Accuracy: 0.5275423526763916\n",
      "Epoch 90, Loss: 0.7083783745765686, Training Accuracy: 0.8216560482978821, Validation Loss: 1.875271201133728, Validation Accuracy: 0.5317796468734741\n",
      "Epoch 95, Loss: 0.6277275681495667, Training Accuracy: 0.8460721969604492, Validation Loss: 1.892453670501709, Validation Accuracy: 0.5296609997749329\n",
      "Epoch 100, Loss: 0.5522662997245789, Training Accuracy: 0.8726114630699158, Validation Loss: 1.9137353897094727, Validation Accuracy: 0.5317796468734741\n"
     ]
    }
   ],
   "source": [
    "# Hyperparameters\n",
    "hidden_size = 256\n",
    "learning_rate = 0.001\n",
    "epochs = 100\n",
    "\n",
    "# Model, loss, and optimizer\n",
    "model = CharRNN(len(chars), hidden_size, len(chars))\n",
    "criterion = nn.CrossEntropyLoss()\n",
    "optimizer = optim.Adam(model.parameters(), lr=learning_rate)\n",
    "\n",
    "# Count the parameters\n",
    "total_params = sum(p.numel() for p in model.parameters())\n",
    "print(f'Total number of parameters: {total_params}')\n",
    "\n",
    "# Training the model\n",
    "for epoch in range(epochs):\n",
    "    model.train()\n",
    "    optimizer.zero_grad()\n",
    "    output = model(X_train)\n",
    "    loss = criterion(output, y_train)\n",
    "    loss.backward()\n",
    "    optimizer.step()\n",
    "    \n",
    "    # Training accuracy\n",
    "    with torch.no_grad():\n",
    "        _, predicted_train = torch.max(output, 1)\n",
    "        train_accuracy = (predicted_train == y_train).float().mean()\n",
    "\n",
    "    # Validation\n",
    "    model.eval()\n",
    "    with torch.no_grad():\n",
    "        val_output = model(X_val)\n",
    "        val_loss = criterion(val_output, y_val)\n",
    "        #The use of the underscore _ is a common Python convention to indicate that the actual maximum values returned by torch.max are not needed and can be disregarded. \n",
    "        #What we are interested in is the indices of these maximum values, which are captured by the variable predicted. These indices represent the model's predictions for each example in the validation set.\n",
    "        _, predicted = torch.max(val_output, 1)\n",
    "        val_accuracy = (predicted == y_val).float().mean()\n",
    "    \n",
    "    if (epoch+1) % 5 == 0:\n",
    "        print(f'Epoch {epoch+1}, Loss: {loss.item()}, Training Accuracy: {train_accuracy.item()}, Validation Loss: {val_loss.item()}, Validation Accuracy: {val_accuracy.item()}')"
   ]
  },
  {
   "cell_type": "code",
   "execution_count": 118,
   "metadata": {},
   "outputs": [
    {
     "name": "stdout",
     "output_type": "stream",
     "text": [
      "Predicted string: 'This simple example demonstrates to models capabilities of the'\n"
     ]
    }
   ],
   "source": [
    "def predict_next_char(model, char_to_ix, ix_to_char, initial_str):\n",
    "    model.eval()\n",
    "    with torch.no_grad():\n",
    "        initial_input = torch.tensor([char_to_ix[c] for c in initial_str[-prediction_range:]], dtype=torch.long).unsqueeze(0)\n",
    "        prediction = model(initial_input)\n",
    "        predicted_index = torch.argmax(prediction, dim=1).item()\n",
    "        return ix_to_char[predicted_index]\n",
    "\n",
    "# Predicting the next character\n",
    "test_str = \"This simple example demonstrates\"\n",
    "predicted_char = predict_next_char(model, char_to_ix, ix_to_char, test_str)\n",
    "# print(f\"Predicted string: '{test_str}'\")\n",
    "\n",
    "# # test_str = \"The\"\n",
    "predicted_char = predict_next_char(model, char_to_ix, ix_to_char, test_str)\n",
    "for i in range(prediction_range):\n",
    "    test_str = test_str + predicted_char\n",
    "    predicted_char = predict_next_char(model, char_to_ix, ix_to_char, test_str)\n",
    "\n",
    "print(f\"Predicted string: '{test_str}'\")\n"
   ]
  }
 ],
 "metadata": {
  "kernelspec": {
   "display_name": "Python 3",
   "language": "python",
   "name": "python3"
  },
  "language_info": {
   "codemirror_mode": {
    "name": "ipython",
    "version": 3
   },
   "file_extension": ".py",
   "mimetype": "text/x-python",
   "name": "python",
   "nbconvert_exporter": "python",
   "pygments_lexer": "ipython3",
   "version": "3.10.12"
  }
 },
 "nbformat": 4,
 "nbformat_minor": 2
}
